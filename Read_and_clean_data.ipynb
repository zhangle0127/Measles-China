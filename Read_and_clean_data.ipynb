{
 "cells": [
  {
   "cell_type": "markdown",
   "metadata": {},
   "source": [
    "# Read and Clean Data"
   ]
  },
  {
   "cell_type": "code",
   "execution_count": 2,
   "metadata": {
    "collapsed": true
   },
   "outputs": [],
   "source": [
    "import os\n",
    "import pandas as pd\n",
    "import numpy as np\n",
    "import sklearn\n",
    "import matplotlib\n",
    "import statsmodels\n",
    "import statsmodels.api as sm\n",
    "\n",
    "# chdir 改变当前工作目录到指定的路径\n",
    "os.chdir('/Users/zhangle/百度云同步盘/工作/measles')\n",
    "files = os.listdir()"
   ]
  },
  {
   "cell_type": "markdown",
   "metadata": {},
   "source": [
    "## Development Environment"
   ]
  },
  {
   "cell_type": "code",
   "execution_count": 3,
   "metadata": {
    "collapsed": false
   },
   "outputs": [
    {
     "name": "stdout",
     "output_type": "stream",
     "text": [
      "pandas: 0.19.2\n",
      "numpy: 1.13.0\n",
      "sklearn: 0.18.2\n",
      "matplotlib: 2.0.2\n",
      "statsmodels: 0.6.1\n"
     ]
    }
   ],
   "source": [
    "# 开发环境\n",
    "print('pandas: {}'.format(pd.__version__))\n",
    "print('numpy: {}'.format(np.__version__))\n",
    "print('sklearn: {}'.format(sklearn.__version__))\n",
    "print('matplotlib: {}'.format(matplotlib.__version__))\n",
    "print('statsmodels: {}'.format(statsmodels.__version__))"
   ]
  },
  {
   "cell_type": "code",
   "execution_count": 5,
   "metadata": {
    "collapsed": true
   },
   "outputs": [],
   "source": [
    "import seaborn as sns\n",
    "import matplotlib\n",
    "import matplotlib.pyplot as plt\n",
    "%matplotlib inline\n",
    "plt.style.use('seaborn-talk')"
   ]
  },
  {
   "cell_type": "markdown",
   "metadata": {},
   "source": [
    "## Print Chinese characters"
   ]
  },
  {
   "cell_type": "code",
   "execution_count": 6,
   "metadata": {
    "collapsed": true
   },
   "outputs": [],
   "source": [
    "# 中文乱码设置\n",
    "matplotlib.matplotlib_fname() # matplotlib配置文件位置\n",
    "matplotlib.get_cachedir() # 删除~/.matplotlib/下的所有缓存文件\n",
    "plt.rcParams['font.sans-serif']=['Microsoft YaHei'] #用来正常显示中文标签\n",
    "plt.rcParams['axes.unicode_minus']=False #用来正常显示负号"
   ]
  },
  {
   "cell_type": "markdown",
   "metadata": {},
   "source": [
    "## Read data"
   ]
  },
  {
   "cell_type": "code",
   "execution_count": 11,
   "metadata": {
    "collapsed": false
   },
   "outputs": [
    {
     "data": {
      "text/html": [
       "<div>\n",
       "<table border=\"1\" class=\"dataframe\">\n",
       "  <thead>\n",
       "    <tr style=\"text-align: right;\">\n",
       "      <th></th>\n",
       "      <th>地区编码</th>\n",
       "      <th>地区名称</th>\n",
       "      <th>年份</th>\n",
       "      <th>疾病名称</th>\n",
       "      <th>发病数</th>\n",
       "      <th>死亡数</th>\n",
       "      <th>发病率（1/10万）</th>\n",
       "      <th>死亡率（1/10万）</th>\n",
       "    </tr>\n",
       "  </thead>\n",
       "  <tbody>\n",
       "    <tr>\n",
       "      <th>0</th>\n",
       "      <td>0</td>\n",
       "      <td>全国</td>\n",
       "      <td>1950</td>\n",
       "      <td>麻疹</td>\n",
       "      <td>132167</td>\n",
       "      <td>8534</td>\n",
       "      <td>44.08</td>\n",
       "      <td>2.85</td>\n",
       "    </tr>\n",
       "    <tr>\n",
       "      <th>1</th>\n",
       "      <td>11000000</td>\n",
       "      <td>北京市</td>\n",
       "      <td>1950</td>\n",
       "      <td>麻疹</td>\n",
       "      <td>809</td>\n",
       "      <td>160</td>\n",
       "      <td>39.73</td>\n",
       "      <td>7.86</td>\n",
       "    </tr>\n",
       "    <tr>\n",
       "      <th>2</th>\n",
       "      <td>12000000</td>\n",
       "      <td>天津市</td>\n",
       "      <td>1950</td>\n",
       "      <td>麻疹</td>\n",
       "      <td>0</td>\n",
       "      <td>0</td>\n",
       "      <td>0.00</td>\n",
       "      <td>0.00</td>\n",
       "    </tr>\n",
       "    <tr>\n",
       "      <th>3</th>\n",
       "      <td>13000000</td>\n",
       "      <td>河北省</td>\n",
       "      <td>1950</td>\n",
       "      <td>麻疹</td>\n",
       "      <td>29177</td>\n",
       "      <td>1708</td>\n",
       "      <td>95.14</td>\n",
       "      <td>5.57</td>\n",
       "    </tr>\n",
       "    <tr>\n",
       "      <th>4</th>\n",
       "      <td>14000000</td>\n",
       "      <td>山西省</td>\n",
       "      <td>1950</td>\n",
       "      <td>麻疹</td>\n",
       "      <td>7628</td>\n",
       "      <td>643</td>\n",
       "      <td>67.13</td>\n",
       "      <td>5.66</td>\n",
       "    </tr>\n",
       "  </tbody>\n",
       "</table>\n",
       "</div>"
      ],
      "text/plain": [
       "       地区编码 地区名称    年份 疾病名称     发病数   死亡数  发病率（1/10万）  死亡率（1/10万）\n",
       "0         0   全国  1950   麻疹  132167  8534       44.08        2.85\n",
       "1  11000000  北京市  1950   麻疹     809   160       39.73        7.86\n",
       "2  12000000  天津市  1950   麻疹       0     0        0.00        0.00\n",
       "3  13000000  河北省  1950   麻疹   29177  1708       95.14        5.57\n",
       "4  14000000  山西省  1950   麻疹    7628   643       67.13        5.66"
      ]
     },
     "execution_count": 11,
     "metadata": {},
     "output_type": "execute_result"
    }
   ],
   "source": [
    "# 读取数据\n",
    "measles = pd.read_excel('麻疹数据有发病率.xlsx')\n",
    "measles.head()"
   ]
  },
  {
   "cell_type": "code",
   "execution_count": 12,
   "metadata": {
    "collapsed": true
   },
   "outputs": [],
   "source": [
    "# 删除无用列\n",
    "measles = measles.drop(['疾病名称'],axis=1)\n",
    "measles.index = range(0,len(measles))"
   ]
  },
  {
   "cell_type": "markdown",
   "metadata": {},
   "source": [
    "## Rename columns in English "
   ]
  },
  {
   "cell_type": "code",
   "execution_count": 14,
   "metadata": {
    "collapsed": false
   },
   "outputs": [
    {
     "data": {
      "text/html": [
       "<div>\n",
       "<table border=\"1\" class=\"dataframe\">\n",
       "  <thead>\n",
       "    <tr style=\"text-align: right;\">\n",
       "      <th></th>\n",
       "      <th>Area_code</th>\n",
       "      <th>Area</th>\n",
       "      <th>Year</th>\n",
       "      <th>No_of_cases</th>\n",
       "      <th>No_of_deaths</th>\n",
       "      <th>Incidence_rate</th>\n",
       "      <th>Death_rate</th>\n",
       "    </tr>\n",
       "  </thead>\n",
       "  <tbody>\n",
       "    <tr>\n",
       "      <th>1984</th>\n",
       "      <td>62000000</td>\n",
       "      <td>甘肃省</td>\n",
       "      <td>2014</td>\n",
       "      <td>276</td>\n",
       "      <td>1</td>\n",
       "      <td>1.0689</td>\n",
       "      <td>0.0039</td>\n",
       "    </tr>\n",
       "    <tr>\n",
       "      <th>1985</th>\n",
       "      <td>63000000</td>\n",
       "      <td>青海省</td>\n",
       "      <td>2014</td>\n",
       "      <td>710</td>\n",
       "      <td>2</td>\n",
       "      <td>12.2882</td>\n",
       "      <td>0.0346</td>\n",
       "    </tr>\n",
       "    <tr>\n",
       "      <th>1986</th>\n",
       "      <td>64000000</td>\n",
       "      <td>宁    夏</td>\n",
       "      <td>2014</td>\n",
       "      <td>67</td>\n",
       "      <td>0</td>\n",
       "      <td>1.0242</td>\n",
       "      <td>0.0000</td>\n",
       "    </tr>\n",
       "    <tr>\n",
       "      <th>1987</th>\n",
       "      <td>65000000</td>\n",
       "      <td>新疆</td>\n",
       "      <td>2014</td>\n",
       "      <td>1263</td>\n",
       "      <td>4</td>\n",
       "      <td>5.5779</td>\n",
       "      <td>0.0177</td>\n",
       "    </tr>\n",
       "    <tr>\n",
       "      <th>1988</th>\n",
       "      <td>66000000</td>\n",
       "      <td>建设兵团</td>\n",
       "      <td>2014</td>\n",
       "      <td>103</td>\n",
       "      <td>1</td>\n",
       "      <td>3.8128</td>\n",
       "      <td>0.0370</td>\n",
       "    </tr>\n",
       "  </tbody>\n",
       "</table>\n",
       "</div>"
      ],
      "text/plain": [
       "      Area_code       Area  Year  No_of_cases  No_of_deaths  Incidence_rate  \\\n",
       "1984   62000000        甘肃省  2014          276             1          1.0689   \n",
       "1985   63000000        青海省  2014          710             2         12.2882   \n",
       "1986   64000000     宁    夏  2014           67             0          1.0242   \n",
       "1987   65000000         新疆  2014         1263             4          5.5779   \n",
       "1988   66000000       建设兵团  2014          103             1          3.8128   \n",
       "\n",
       "      Death_rate  \n",
       "1984      0.0039  \n",
       "1985      0.0346  \n",
       "1986      0.0000  \n",
       "1987      0.0177  \n",
       "1988      0.0370  "
      ]
     },
     "execution_count": 14,
     "metadata": {},
     "output_type": "execute_result"
    }
   ],
   "source": [
    "# rename列名\n",
    "measles.columns = ['Area_code','Area','Year','No_of_cases','No_of_deaths','Incidence_rate','Death_rate']\n",
    "measles.tail()"
   ]
  },
  {
   "cell_type": "markdown",
   "metadata": {},
   "source": [
    "## Remove whitespaces"
   ]
  },
  {
   "cell_type": "code",
   "execution_count": 15,
   "metadata": {
    "collapsed": true
   },
   "outputs": [],
   "source": [
    "# 去除 Area列 文字间的空格 (第二次给的原始数据没空格)\n",
    "# u unicode\n",
    "for i in np.arange(0,len(measles)):\n",
    "    measles.ix[i,'Area'] =  measles.ix[i,'Area'].replace(u'\\xa0', u'')"
   ]
  },
  {
   "cell_type": "markdown",
   "metadata": {},
   "source": [
    "## Save Data"
   ]
  },
  {
   "cell_type": "code",
   "execution_count": 18,
   "metadata": {
    "collapsed": true
   },
   "outputs": [],
   "source": [
    "# ./ 向上一级\n",
    "# ../ 向上上一级\n",
    "measles.to_excel('./measles.xlsx')"
   ]
  },
  {
   "cell_type": "code",
   "execution_count": null,
   "metadata": {
    "collapsed": true
   },
   "outputs": [],
   "source": []
  }
 ],
 "metadata": {
  "kernelspec": {
   "display_name": "Python 3",
   "language": "python",
   "name": "python3"
  },
  "language_info": {
   "codemirror_mode": {
    "name": "ipython",
    "version": 3
   },
   "file_extension": ".py",
   "mimetype": "text/x-python",
   "name": "python",
   "nbconvert_exporter": "python",
   "pygments_lexer": "ipython3",
   "version": "3.6.0"
  }
 },
 "nbformat": 4,
 "nbformat_minor": 2
}
