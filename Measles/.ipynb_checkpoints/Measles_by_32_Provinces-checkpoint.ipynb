{
 "cells": [
  {
   "cell_type": "markdown",
   "metadata": {},
   "source": [
    "# Incidence and death of Measles in China by 32 provinces, 1950-2014"
   ]
  },
  {
   "cell_type": "code",
   "execution_count": 3,
   "metadata": {
    "collapsed": true
   },
   "outputs": [],
   "source": [
    "import pandas as pd\n",
    "import numpy as np\n",
    "import sklearn\n",
    "import statsmodels\n",
    "import statsmodels.api as sm\n",
    "import seaborn as sns\n",
    "import matplotlib\n",
    "import matplotlib.pyplot as plt\n",
    "%matplotlib inline"
   ]
  },
  {
   "cell_type": "code",
   "execution_count": 4,
   "metadata": {
    "collapsed": false
   },
   "outputs": [],
   "source": [
    "plt.style.use('seaborn-talk')\n",
    "matplotlib.matplotlib_fname() # matplotlib配置文件位置\n",
    "matplotlib.get_cachedir() # 删除~/.matplotlib/下的所有缓存文件\n",
    "plt.rcParams['font.sans-serif']=['Microsoft YaHei'] #用来正常显示中文标签\n",
    "plt.rcParams['axes.unicode_minus']=False #用来正常显示负号"
   ]
  },
  {
   "cell_type": "code",
   "execution_count": 5,
   "metadata": {
    "collapsed": true
   },
   "outputs": [],
   "source": [
    "measles = pd.read_excel('/Users/zhangle/百度云同步盘/工作/measles/measles.xlsx')\n",
    "quanguo = measles.ix[measles.Area == '全国',:]\n",
    "quanguo.index = pd.Index(sm.tsa.datetools.dates_from_range('1950','2014'))"
   ]
  },
  {
   "cell_type": "code",
   "execution_count": 6,
   "metadata": {
    "collapsed": true
   },
   "outputs": [],
   "source": [
    "# 删除一个元素from list: remove pop del\n",
    "provinces = measles.Area.unique()\n",
    "provinces[-2]\n",
    "# 删除一个元素from array: numpy.delete(a, index)\n",
    "areas = measles.Area.unique()\n",
    "provinces = np.delete(provinces, [0,32])"
   ]
  },
  {
   "cell_type": "markdown",
   "metadata": {},
   "source": [
    "## Incident cases of measles in China by 32 provinces, 1950-2014\n",
    "## 32个省市自治区1950-2014年麻疹发病数"
   ]
  },
  {
   "cell_type": "code",
   "execution_count": null,
   "metadata": {
    "collapsed": true
   },
   "outputs": [],
   "source": [
    "# data.reset_index(drop=True)\n",
    "nrows = int(len(provinces)/4)\n",
    "fig, axs =plt.subplots(nrows,4)\n",
    "for i in range(len(provinces)):\n",
    "    data = measles.ix[measles.Area == provinces[i],:]\n",
    "    data.index = data.Year\n",
    "    data.No_of_cases.plot(figsize=(36,60),ax=axs.reshape(-1)[i],title = provinces[i]+'麻疹发病数')"
   ]
  },
  {
   "cell_type": "markdown",
   "metadata": {},
   "source": [
    "## Deaths of measles in China by 32 Provinces, 1950-2014\n",
    "## 32个省市自治区1950-2014年麻疹死亡数"
   ]
  },
  {
   "cell_type": "code",
   "execution_count": null,
   "metadata": {
    "collapsed": true
   },
   "outputs": [],
   "source": [
    "# data.reset_index(drop=True)\n",
    "nrows = int(len(provinces)/4)\n",
    "fig, axs =plt.subplots(nrows,4)\n",
    "for i in range(len(provinces)):\n",
    "    data = measles.ix[measles.Area == provinces[i],:]\n",
    "    data.index = data.Year\n",
    "    data.No_of_deaths.plot(figsize=(36,60),ax=axs.reshape(-1)[i],title = provinces[i]+'麻疹死亡数')"
   ]
  },
  {
   "cell_type": "markdown",
   "metadata": {},
   "source": [
    "## Incidence rate of measles in China by 32 provinces, 1950-2014 (per 100 thousand)\n",
    "## 32个省市自治区1950-2014年麻疹发病率"
   ]
  },
  {
   "cell_type": "code",
   "execution_count": null,
   "metadata": {
    "collapsed": true
   },
   "outputs": [],
   "source": [
    "nrows = int(len(provinces)/4)\n",
    "fig, axs =plt.subplots(nrows,4)\n",
    "for i in range(len(provinces)):\n",
    "    data = measles.ix[measles.Area == provinces[i],:]\n",
    "    data.index = data.Year\n",
    "    data.Incidence_rate.plot(figsize=(36,60),ax=axs.reshape(-1)[i],title = provinces[i]+'麻疹发病率',\n",
    "                             ylim = [0,3500], sharey = True)"
   ]
  },
  {
   "cell_type": "markdown",
   "metadata": {},
   "source": [
    "## Death rate of measles in China by 32 provinces, 1950-2014 (per 100 thousand)\n",
    "## 32个省市自治区1950-2014年麻疹死亡率"
   ]
  },
  {
   "cell_type": "code",
   "execution_count": null,
   "metadata": {
    "collapsed": true
   },
   "outputs": [],
   "source": [
    "nrows = int(len(provinces)/4)\n",
    "fig, axs =plt.subplots(nrows,4)\n",
    "for i in range(len(provinces)):\n",
    "    data = measles.ix[measles.Area == provinces[i],:]\n",
    "    data.index = data.Year\n",
    "    data.Death_rate.plot(figsize=(36,60),ax=axs.reshape(-1)[i],title = provinces[i]+'麻疹死亡率',\n",
    "                        ylim = [0,150], sharey = True)"
   ]
  }
 ],
 "metadata": {
  "kernelspec": {
   "display_name": "Python 3",
   "language": "python",
   "name": "python3"
  },
  "language_info": {
   "codemirror_mode": {
    "name": "ipython",
    "version": 3
   },
   "file_extension": ".py",
   "mimetype": "text/x-python",
   "name": "python",
   "nbconvert_exporter": "python",
   "pygments_lexer": "ipython3",
   "version": "3.6.0"
  }
 },
 "nbformat": 4,
 "nbformat_minor": 2
}
