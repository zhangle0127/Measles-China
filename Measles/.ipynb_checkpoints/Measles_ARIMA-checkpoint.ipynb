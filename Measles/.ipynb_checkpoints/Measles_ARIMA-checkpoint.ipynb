{
 "cells": [
  {
   "cell_type": "code",
   "execution_count": 58,
   "metadata": {
    "collapsed": false
   },
   "outputs": [],
   "source": [
    "import pandas as pd\n",
    "import numpy as np\n",
    "import matplotlib.pyplot as plt\n",
    "import matplotlib\n",
    "%matplotlib inline\n",
    "%config InlineBackend.figure_format = 'retina'\n",
    "# import seaborn as sns\n",
    "import os"
   ]
  },
  {
   "cell_type": "code",
   "execution_count": 2,
   "metadata": {
    "collapsed": false,
    "scrolled": true
   },
   "outputs": [],
   "source": [
    "os.chdir('/Users/zhangle/百度云同步盘/工作/measles')\n",
    "measles = pd.read_excel('measles.xlsx')"
   ]
  },
  {
   "cell_type": "markdown",
   "metadata": {},
   "source": [
    "## 全国麻疹"
   ]
  },
  {
   "cell_type": "code",
   "execution_count": null,
   "metadata": {
    "collapsed": true
   },
   "outputs": [],
   "source": [
    "import statsmodels.api as sm\n",
    "quanguo = measles.ix[measles.Area == '全国',:]\n",
    "quanguo.index = pd.Index(sm.tsa.datetools.dates_from_range('1950','2014'))\n",
    "quanguo.head()"
   ]
  },
  {
   "cell_type": "markdown",
   "metadata": {},
   "source": [
    "## 一、稳定性检测\n",
    "### 1. 绘制滚动统计：我们可以绘制移动平均数和移动方差，观察它是否随着时间变化。"
   ]
  },
  {
   "cell_type": "code",
   "execution_count": 4,
   "metadata": {
    "collapsed": true
   },
   "outputs": [],
   "source": [
    "def rolling_statistics(timeseries):\n",
    "    #Determing rolling statistics\n",
    "    rolmean = timeseries.rolling(window=5,center=False).mean()\n",
    "    rolstd = timeseries.rolling(window=5,center=False).std()\n",
    "    #Plot rolling statistics:\n",
    "    fig = plt.figure(figsize=(11, 7))\n",
    "    orig = plt.plot(timeseries, color='blue',label='Original')\n",
    "    mean = plt.plot(rolmean, color='red', label='Rolling Mean')\n",
    "    std = plt.plot(rolstd, color='black', label = 'Rolling Std')\n",
    "    plt.legend(loc='best')\n",
    "    plt.title('Rolling Mean & Standard Deviation')\n",
    "    plt.show(block=False)"
   ]
  },
  {
   "cell_type": "code",
   "execution_count": 5,
   "metadata": {
    "collapsed": false
   },
   "outputs": [],
   "source": [
    "# rolling_statistics(quanguo['Incidence_rate'])"
   ]
  },
  {
   "cell_type": "markdown",
   "metadata": {
    "collapsed": true
   },
   "source": [
    "### 2. ADF检验：这是一种检查数据稳定性的统计测试。\n",
    "无效假设：时间序列是不稳定的。\n",
    "测试结果由测试统计量和一些置信区间的临界值组成。如果“测试统计量”少于“临界值”，我们可以拒绝无效假设，并认为序列是稳定的。\n",
    "或者根据前面提高的p值检验，如果p值小于显著性水平，我们可以拒绝无效假设，认为序列稳定。"
   ]
  },
  {
   "cell_type": "code",
   "execution_count": 6,
   "metadata": {
    "collapsed": false
   },
   "outputs": [],
   "source": [
    "from statsmodels.tsa.stattools import adfuller\n",
    "\n",
    "def adf_test(timeseries):\n",
    "    rolling_statistics(timeseries) #绘图\n",
    "    print('Results of Augment Dickey-Fuller Test:')\n",
    "    dftest = adfuller(timeseries, autolag='AIC')\n",
    "    dfoutput = pd.Series(dftest[0:4], index=['Test Statistic','p-value','#Lags Used','Number of Observations Used'])\n",
    "    for key,value in dftest[4].items():\n",
    "        dfoutput['Critical Value (%s)'%key] = value\n",
    "    print(dfoutput)"
   ]
  },
  {
   "cell_type": "code",
   "execution_count": null,
   "metadata": {
    "collapsed": true
   },
   "outputs": [],
   "source": [
    "adf_test(quanguo['Incidence_rate'])"
   ]
  },
  {
   "cell_type": "markdown",
   "metadata": {},
   "source": [
    "#### 解释上述结果\n",
    "    Test statistic：代表检验统计量\n",
    "    p-value：代表p值检验的概率\n",
    "    Lags used：使用的滞后k，autolag=AIC时会自动选择滞后\n",
    "    Number of Observations Used：样本数量\n",
    "    Critical Value(5%) : 显著性水平为5%的临界值\n",
    "    \n",
    "    假设是存在单位根，即不平稳；\n",
    "    显著性水平，1%：严格拒绝原假设；5%：拒绝原假设，10%类推。\n",
    "    看P值和显著性水平a的大小，p值越小，小于显著性水平的话，就拒绝原假设，认为序列是平稳的；大于的话，不能拒绝，认为是不平稳的\n",
    "        p=0.008<0.01 平稳\n",
    "    看检验统计量和临界值，检验统计量小于临界值的话，就拒绝原假设，认为序列是平稳的；大于的话，不能拒绝，认为是不平稳的\n",
    "        统计量-3.48 >  1%临界值-3.56  不平稳\n",
    "        统计量-3.48 <  5%临界值-2.92  平稳\n",
    "        统计量-3.48 < 10%临界值-2.59  平稳\n",
    "\n",
    "\n",
    "#### 先让我们弄明白是什么导致时间序列不稳定。两个主要原因。\n",
    "    趋势----随着时间产生不同的平均值。举例：在飞机乘客这个案例中，我们看到总体上，飞机乘客的数量是在不断增长的。\n",
    "    季节性----特定时间框架内的变化。举例：在特定的月份购买汽车的人数会有增加的趋势，因为车价上涨或者节假日到来。"
   ]
  },
  {
   "cell_type": "markdown",
   "metadata": {},
   "source": [
    "## 二、平稳性处理"
   ]
  },
  {
   "cell_type": "markdown",
   "metadata": {},
   "source": [
    "### 方法1 转换\n",
    "对数变换"
   ]
  },
  {
   "cell_type": "code",
   "execution_count": 8,
   "metadata": {
    "collapsed": false,
    "scrolled": true
   },
   "outputs": [],
   "source": [
    "# 中文乱码设置\n",
    "matplotlib.matplotlib_fname() # matplotlib配置文件位置\n",
    "matplotlib.get_cachedir() # 删除~/.matplotlib/下的所有缓存文件\n",
    "plt.rcParams['font.sans-serif']=['Microsoft YaHei'] #用来正常显示中文标签\n",
    "plt.rcParams['axes.unicode_minus']=False #用来正常显示负号"
   ]
  },
  {
   "cell_type": "code",
   "execution_count": null,
   "metadata": {
    "collapsed": true
   },
   "outputs": [],
   "source": [
    "# help(Axes)\n",
    "# 自1978年实施免疫规划以来，全国预防接种覆盖率一直保持在较高水平，\n",
    "#并于1988、1990、1995年先后实现以省、县、乡为单位儿童国家免疫规划四苗接种率达到85%的普及儿童免疫目标\n",
    "\n",
    "ts = quanguo['Incidence_rate']\n",
    "ts_log = np.log(ts)\n",
    "\n",
    "fig = plt.figure(figsize=(15,5))\n",
    "\n",
    "ax1 = fig.add_subplot(1,2,1)\n",
    "ax1.plot(ts)\n",
    "ax1.set_title('original麻疹发病率（1988-2014）')\n",
    "\n",
    "ax2 = fig.add_subplot(1,2,2)\n",
    "ax2.plot(ts_log)\n",
    "ax2.set_title('log变换麻疹发病率（1988-2014）')"
   ]
  },
  {
   "cell_type": "code",
   "execution_count": null,
   "metadata": {
    "collapsed": true
   },
   "outputs": [],
   "source": [
    "adf_test(ts)"
   ]
  },
  {
   "cell_type": "code",
   "execution_count": null,
   "metadata": {
    "collapsed": true
   },
   "outputs": [],
   "source": [
    "adf_test(ts_log)"
   ]
  },
  {
   "cell_type": "markdown",
   "metadata": {
    "collapsed": true
   },
   "source": [
    "### 方法2 平滑\n",
    "取滚动平均数平滑法。利用移动平均的方法来处理数据，可能可以用来处理#周期性因素#"
   ]
  },
  {
   "cell_type": "markdown",
   "metadata": {},
   "source": [
    "### 方法3 差分\n",
    "一般来说，非纯随机的时间序列经一阶差分或者二阶差分之后就会变得平稳。那差分几阶合理呢？我的观点是：在保证ADF检验的p<0.01的情况下，阶数越小越好，否则会带来样本减少、还原序列麻烦、预测困难的问题。"
   ]
  },
  {
   "cell_type": "code",
   "execution_count": null,
   "metadata": {
    "collapsed": true
   },
   "outputs": [],
   "source": [
    "# 不取对数 直接差分 需要1阶差分 p<0.05\n",
    "ts_diff3 = ts - ts.shift(periods=3)\n",
    "#diff_nan_index = ts_diff3.iloc[:1].index\n",
    "#adf_test(ts_diff3.drop(diff_nan_index))\n",
    "adf_test(ts_diff3.dropna(inplace=False))"
   ]
  },
  {
   "cell_type": "code",
   "execution_count": null,
   "metadata": {
    "collapsed": true
   },
   "outputs": [],
   "source": [
    "# 取log做1阶差分 p<0.05\n",
    "ts_log_diff1 = ts_log - ts_log.shift(periods=1)\n",
    "adf_test(ts_log_diff1.dropna())\n",
    "#diff_nan_index = ts_log_diff1.iloc[:1].index\n",
    "#adf_test(ts_log_diff1.drop(diff_nan_index))"
   ]
  },
  {
   "cell_type": "markdown",
   "metadata": {},
   "source": [
    "### 方法4 分解法\n",
    "将时间序列分解成长期趋势、季节趋势和随机成分"
   ]
  },
  {
   "cell_type": "markdown",
   "metadata": {},
   "source": [
    "## 三、建模"
   ]
  },
  {
   "cell_type": "markdown",
   "metadata": {},
   "source": [
    "### 1.确定ARMA的阶数，ARMA(p,q)是AR(p)和MA(q)模型的组合，p和q的选择\n",
    "#### 方法1 观察自相关图ACF和偏相关图PACF, 另一种方法是通过借助AIC、BIC统计量自动确定。"
   ]
  },
  {
   "cell_type": "code",
   "execution_count": null,
   "metadata": {
    "collapsed": true
   },
   "outputs": [],
   "source": [
    "import statsmodels.api as sm\n",
    "def acf_pacf_plot(ts_log_diff):\n",
    "    sm.graphics.tsa.plot_acf(ts_log_diff,lags=40) #ARIMA,q\n",
    "    sm.graphics.tsa.plot_pacf(ts_log_diff,lags=40) #ARIMA,p\n",
    "acf_pacf_plot(ts.dropna()) #调用一阶差分"
   ]
  },
  {
   "cell_type": "markdown",
   "metadata": {
    "collapsed": true
   },
   "source": [
    "#### 方法2 通过借助AIC、BIC统计量自动确定"
   ]
  },
  {
   "cell_type": "code",
   "execution_count": null,
   "metadata": {
    "collapsed": true
   },
   "outputs": [],
   "source": [
    "import statsmodels.tsa.stattools as st\n",
    "order = st.arma_order_select_ic(ts,max_ar=7,max_ma=7,ic=['aic', 'bic', 'hqic'])\n",
    "order.bic_min_order"
   ]
  },
  {
   "cell_type": "markdown",
   "metadata": {},
   "source": [
    "#### build model"
   ]
  },
  {
   "cell_type": "code",
   "execution_count": null,
   "metadata": {
    "collapsed": true
   },
   "outputs": [],
   "source": [
    "from statsmodels.tsa.arima_model import ARMA\n",
    "model = ARMA(ts, order=(1,6,0))\n",
    "result_arma = model.fit(disp=-1, method='css')"
   ]
  },
  {
   "cell_type": "code",
   "execution_count": null,
   "metadata": {
    "collapsed": true
   },
   "outputs": [],
   "source": [
    "train_predict = result_arma.predict()\n",
    "RMSE = np.sqrt(((train_predict-ts)**2).sum()/ts.size)\n",
    "RMSE"
   ]
  },
  {
   "cell_type": "code",
   "execution_count": null,
   "metadata": {
    "collapsed": true
   },
   "outputs": [],
   "source": [
    "predict_ts = result_arma.predict()"
   ]
  },
  {
   "cell_type": "code",
   "execution_count": null,
   "metadata": {
    "collapsed": true
   },
   "outputs": [],
   "source": [
    "fig = plt.figure(figsize=(12,8)) \n",
    "plt.plot(predict_ts,'r--',ts,'b-')\n",
    "plt.title('predicts of measles incidence 1950-2014')"
   ]
  },
  {
   "cell_type": "markdown",
   "metadata": {
    "collapsed": false
   },
   "source": []
  }
 ],
 "metadata": {
  "kernelspec": {
   "display_name": "Python 3",
   "language": "python",
   "name": "python3"
  },
  "language_info": {
   "codemirror_mode": {
    "name": "ipython",
    "version": 3
   },
   "file_extension": ".py",
   "mimetype": "text/x-python",
   "name": "python",
   "nbconvert_exporter": "python",
   "pygments_lexer": "ipython3",
   "version": "3.6.0"
  }
 },
 "nbformat": 4,
 "nbformat_minor": 2
}
